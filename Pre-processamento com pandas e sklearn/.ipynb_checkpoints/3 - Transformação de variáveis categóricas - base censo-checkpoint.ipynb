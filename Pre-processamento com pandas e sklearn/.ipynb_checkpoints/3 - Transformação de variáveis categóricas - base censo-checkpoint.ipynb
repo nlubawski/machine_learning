{
 "cells": [
  {
   "cell_type": "markdown",
   "metadata": {},
   "source": [
    "#### A base que vamos utilizar esta localizada em https://archive.ics.uci.edu/ml/datasets/Adult"
   ]
  },
  {
   "cell_type": "markdown",
   "metadata": {},
   "source": [
    "#### Nesse repositorio da UCI temos muitas bases de dados, onde podemos filtrar de acordo com o que precisamos testar, aprender. Nessa nossa base do censo, a ideia vai ser saber se uma pessoa ganha mais de 50k (50 mil) por ano. Para mais informacoes sobre a base visite o repositorio acima. Para baixar os dados voce pode baixar no repositorio o arquivo adult.data ou usar o arquivo censos.csv disponivel na pasta do github que esta esse caderno"
   ]
  },
  {
   "cell_type": "code",
   "execution_count": 3,
   "metadata": {},
   "outputs": [],
   "source": [
    "import pandas as pd"
   ]
  },
  {
   "cell_type": "code",
   "execution_count": 5,
   "metadata": {},
   "outputs": [],
   "source": [
    "base = pd.read_csv('censo.csv')"
   ]
  },
  {
   "cell_type": "markdown",
   "metadata": {},
   "source": [
    "#### Nosso objetivo nessa base de dados vai ser a transformacao de variaveis categoricas, mas pra isso precisamos ver quais das nossas variaveis sao categoricas"
   ]
  },
  {
   "cell_type": "code",
   "execution_count": null,
   "metadata": {},
   "outputs": [],
   "source": []
  },
  {
   "cell_type": "code",
   "execution_count": null,
   "metadata": {},
   "outputs": [],
   "source": []
  },
  {
   "cell_type": "code",
   "execution_count": null,
   "metadata": {},
   "outputs": [],
   "source": []
  }
 ],
 "metadata": {
  "kernelspec": {
   "display_name": "Python 3",
   "language": "python",
   "name": "python3"
  },
  "language_info": {
   "codemirror_mode": {
    "name": "ipython",
    "version": 3
   },
   "file_extension": ".py",
   "mimetype": "text/x-python",
   "name": "python",
   "nbconvert_exporter": "python",
   "pygments_lexer": "ipython3",
   "version": "3.8.5"
  }
 },
 "nbformat": 4,
 "nbformat_minor": 4
}
